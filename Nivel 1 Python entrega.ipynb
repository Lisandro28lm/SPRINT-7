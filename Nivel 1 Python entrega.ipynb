{
 "cells": [
  {
   "cell_type": "markdown",
   "metadata": {},
   "source": [
    "EJERCICIO 1\n",
    "Hay que realizar una calculadora del índice de masa corporal. Hacer una funcion que calcule el IMC del usuario segun datos que ingrese de peso y altura. La formula para calcular el IMC es:\n",
    "IMC = peso/(altura**2) --> peso dividivo por la altura al cuadrado\n",
    "La función clasificará el resultado en sus respectivas categoría:"
   ]
  },
  {
   "cell_type": "code",
   "execution_count": 18,
   "metadata": {},
   "outputs": [
    {
     "name": "stdout",
     "output_type": "stream",
     "text": [
      "Su IMC es de 21.6\n",
      "su peso es normal\n"
     ]
    }
   ],
   "source": [
    "def datosusuario():\n",
    "    while True: #utilizo el while para que en caso de los datos ingresado en los pasos sea incorrecta, vuelva a iterar.\n",
    "        peso = float(input(\"Por favor introduzca su peso, en kilos\")) # input para que el usuario ponga su peso.      \n",
    "        altura = float(input(\"Por favor introduzca su altura, en metros\")) # input para que el usuario ponga su altura.\n",
    "        if peso > 0 and altura > 0: #si el peso y altura introducida es mayor a cero que devuelva el peso y la altura de lo contrario..\n",
    "            return peso,altura\n",
    "        else:\n",
    "            print(\"por favor vuelva a introducir los datos, ni altura ni peso pueden ser menor o igual a cero\")\n",
    "def calculoIMC():#la funcion no lleva parametros, porque voy a obtener los valores que se necesitan llamando a otra funcion.\n",
    "    peso,altura = datosusuario() #esta linea llama a la funcion datosuarios, y esa funcion pedia peso y altura.Entonces si tiene valores logicos, segun como vimos en la funcion datos usuario, contiua, de lo contrario le vuelve a pedir peso y altura. \n",
    "    IMC = round(peso/(altura**2),2)  #formula para calcular el IMC y la redondeamos a dos decimales.\n",
    "    print(\"Su IMC es de\", IMC) #impresion de un texto con el valor de IMC.\n",
    "    return IMC\n",
    "#print(\"Siendo su peso\",peso,\"kg. y su altura de\", altura,\"mts. el valor de su IMC es de:\", IMC)\n",
    "def rangoIMC(): # esta linea llama a la funcion anterior(calculoIMC), y obtiene el dato IMC\n",
    "    IMC=calculoIMC() #aqui inicio una secuencia if, para dar una respuesta al usuario y definiendolo en un rango segun el valor de IMC, a partir del peso y altura.\n",
    "    if IMC < 18.5: \n",
    "        print(\"su peso es bajo se encuentra por debajo de 18,5\")\n",
    "    elif IMC >=18.5 and IMC <=24.9:\n",
    "        print(\"su peso es normal\")\n",
    "    elif IMC >= 25 and IMC <= 29.9:\n",
    "        print(\"tiene sobrepeso\")\n",
    "    else: # ejercicio no lo dice pero entiendo que es mayor o igual a 30\n",
    "        print(\"IMC mayor a 30, tiene obesidad\")\n",
    "    return\n",
    "rangoIMC() # Al llamar a esta función, se ejecutarán todas las funciones necesarias para calcular y mostrar el IMC y su rango."
   ]
  },
  {
   "cell_type": "markdown",
   "metadata": {},
   "source": [
    "EJERCICIO 2\n",
    "Convertidor de temperaturas.\n",
    "Existen varias unidades de temperatura utilizadas en diferentes contextos y regiones. Las más comunes son Celsius (°C), Fahrenheit (°F) y Kelvin (K). También existen otras unidades como Rankine (°Ra) y Réaumur (°Re). Selecciona al menos 2 conversores, de tal manera que al introducir una temperatura retorne, como mínimo, dos conversiones."
   ]
  },
  {
   "cell_type": "code",
   "execution_count": null,
   "metadata": {},
   "outputs": [],
   "source": [
    "def temp_celsius():\n",
    "    celsius = float(input(\"Por favor, introduzca temperatura en Celsius para poder calcular las otras medidas: \"))\n",
    "    return celsius\n",
    "\n",
    "def temp_fahrenheit(celsius):\n",
    "    fahrenheit = round((celsius * 9/5) + 32, 2)\n",
    "    return fahrenheit\n",
    "\n",
    "def temp_kelvin(celsius):\n",
    "    kelvin = round(celsius + 273.15,2)\n",
    "    return kelvin\n",
    "celsius=temp_celsius() #para intrepretarlo mejor, yendo de derecha a izquierda se llama a la funcion temp_celsius(), esta se ejecuta y por lo tanto ya ubicado en esa funcion se le pide al usuario que ingrese la temperatura en celsius. Ese valor que retorna, se asigna a la variable celsius (parte izquierda de la linea)\n",
    "print(f'{celsius} grados celsius es igual a {temp_fahrenheit(celsius)} fahrenheit') #ya ese valor de la variable celsius, lo utilizo en este print para que me escriba la temperatura que ha tipeado el usario. Y en segundo lugar, ya utilizando la funcion de fahrenheit o kelvin, me traiga el equivalente de esa variable celsius en unidad de medida fahrenheit o kelvin.\n",
    "print(f'{celsius} grados celsius es igual a {temp_kelvin(celsius)} kelvin')"
   ]
  },
  {
   "cell_type": "markdown",
   "metadata": {},
   "source": [
    "EJERCICIO 3\n",
    "Contador de palabras de un texto.\n",
    "\n",
    "Escribe una función que dado un texto, muestre las veces que aparece cada palabra."
   ]
  },
  {
   "cell_type": "code",
   "execution_count": null,
   "metadata": {},
   "outputs": [],
   "source": [
    "def ajustartexto(texto): #la idea de est funcion es ajustar texto(en cuanto mayusculas,caracteres)\n",
    "    import re #importo esta libreria, que luego utilizare una de sus funciones\n",
    "    texto=texto.lower() #para llevar cada caracter a minuscula, asi me considera cada palabra de igual forma \n",
    "                        # independientemente si tiene un caracter en mayuscula\n",
    "    texto = re.sub(r'[,.!¡]', \" \",texto) #con esta funcion es para reemplazar cada como o punto, reemplazarlo por un esapcio en blanco.\n",
    "    texto_ajustado = texto.split() #este metodo es necesario porque luego me permitira ir iterando sobre cada palabra. De no hacerlo iria iterando sobre cada caracter del texto. El metodo split me lo permite separar el texto en una lista de palabras a partir de los espacios en blanco.\n",
    "    return texto_ajustado\n",
    "def base_conteo(texto_ajustado): #la idea de esta funcion es crear un diccionario, y generar un contador.\n",
    "    informeconteo={} #creo un diccionario vacio, en el que luego ire incorporando cada palabra del texto(como clave) y su cantidad(como valor)\n",
    "    for palabra in texto_ajustado: #para cada elemento que me aparece en texto....\n",
    "        if palabra in informeconteo: #si esa palabra que esta iterando me la encuentra en el diccionario, sucede lo siguiente:\n",
    "            informeconteo[palabra] +=1 #si me la encuentra, a esa palabra(clave), le sumara como valor 1 digito, es decir será un contador\n",
    "        else:\n",
    "            informeconteo[palabra] = 1 #si no me lo encuentra, le asigna valor inicial, es decir le asigna 1, la proxima vez que vuelva a iterar si lo encuntra será 2, o de lo contrario ya quedará en 1\n",
    "    return informeconteo\n",
    "def procesar_texto(texto): #la idea de esta funcion ya es el ultimo paso, que hara de resumen, de resultado final de lo generado por las otras dos funciones.\n",
    "    texto_ajustado = ajustartexto(texto) #el texto pasa primero por la funcion ajustar texto, se llevan a cabo sus cambios y devuelve texto ajustado\n",
    "    recuento=base_conteo(texto_ajustado) #luego ese texto ajustado pasa por la funcion de conteo, en donde a partir del desarrollo que tiene esa funcion, por medio del for y luego del if va iterando y contando cada palabra\n",
    "    for palabra, cant in recuento.items(): #aqui se inicia un bucle que va iterar por cada palabra, y valor que encuentre en el diccionario, y luego de esa iteracion hace un print de la palabra(clave) iterada, y de su par valor\n",
    "        print(palabra,cant)\n",
    "texto = 'Descubre el agua Ribes, el agua más pura y refrescante, perfecta para cuidar tu salud con su versión bajo sodio y accesible con su bajo precio. Agua Ribes es el agua que todos prefieren. ¡Elige agua Ribes, elige salud!'\n",
    "procesar_texto(texto)\n",
    "#dia1_texto = \"Javier Zanetti, jugador de fútbol nacido en Argentina, fue jugador del Inter de Milan, y Banfield equipo de Argentina. Tiene prácticamente todos los récords imaginables en el Inter. Jugó en el Inter 858 partidos, 160 campeonatos europeos y tiene 16 títulos. Además es el jugador con más presencias con la selección argentina.\""
   ]
  },
  {
   "cell_type": "markdown",
   "metadata": {},
   "source": [
    "EJERCICIO 4\n",
    "Diccionario inverso.\n",
    "\n",
    "Resulta que el cliente tiene una encuesta muy antigua que se almacena en un diccionario y los resultados los necesita al revés, es decir, intercambiados las claves y los valores. Los valores y claves en el diccionario original son únicos; si este no es el caso, la función debería imprimir un mensaje de advertencia."
   ]
  },
  {
   "cell_type": "code",
   "execution_count": null,
   "metadata": {},
   "outputs": [],
   "source": [
    "company_nro={\"Ferrari\":1,\"Tesla, Inc.\":2,\"General Motors Company\":3,\"Toyota Motor Corporation\":4} #parto de este diccionario original, con su clave y valor\n",
    "def crearnvodict(company_nro): #creo una función que constará de los pasos siguientes.\n",
    "    nro_company={} #primero dar inicio a un diccionario vacio\n",
    "    for nombre, nro in company_nro.items(): ## Itera sobre cada elemento del diccionario company_nro, usando 'nombre' como clave y 'nro' como valor.\n",
    "        if nro in nro_company.keys(): # en este caso si encuentra el valor de company_nro, es decir lo que seria la clave de nro_company, si ya la encuentra en el diccinario nro_company, dará un print de error.\n",
    "            return (f'Error: multiple keys for one value, la clave {nro} ya está siendo utilizada')\n",
    "        nro_company[nro]=nombre # lo que va entre corchetes es la clave para poder acceder al valor en el diccionario, y en este caso yo voy a utilizar el nro para poder acceder al valor en el diccionario. Y luego del simbolo igual ira el valor que yo le quiera asignar a esa clave.\n",
    "    return nro_company\n",
    "crearnvodict(company_nro)"
   ]
  }
 ],
 "metadata": {
  "kernelspec": {
   "display_name": "Python 3",
   "language": "python",
   "name": "python3"
  },
  "language_info": {
   "codemirror_mode": {
    "name": "ipython",
    "version": 3
   },
   "file_extension": ".py",
   "mimetype": "text/x-python",
   "name": "python",
   "nbconvert_exporter": "python",
   "pygments_lexer": "ipython3",
   "version": "3.12.5"
  }
 },
 "nbformat": 4,
 "nbformat_minor": 2
}
