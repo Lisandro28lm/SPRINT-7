{
 "cells": [
  {
   "cell_type": "markdown",
   "metadata": {},
   "source": [
    "EJERCICIO 1\n",
    "Hay que realizar una calculadora del índice de masa corporal. Hacer una funcion que calcule el IMC del usuario segun datos que ingrese de peso y altura. La formula para calcular el IMC es:\n",
    "IMC = peso/(altura**2) --> peso dividivo por la altura al cuadrado\n",
    "La función clasificará el resultado en sus respectivas categoría:\n",
    "\n",
    "Correcciones - Cambios Propuestos:\n",
    " - El código podría ser más simple en las especificaciones de cada condición\n",
    " - Hay un cambio importante a tener en cuenta. Tu código no acepta el decimal como coma (solo se puede ingresar un punto)\n",
    " - Podrías simplificar un poco el flujo. Por ejemplo, sería posible consolidar calculoIMC y rangoIMC"
   ]
  },
  {
   "cell_type": "code",
   "execution_count": null,
   "metadata": {},
   "outputs": [],
   "source": [
    "def rangoIMC(peso,altura): \n",
    "    IMC=round(peso/(altura**2),2)\n",
    "    print(\"Su IMC es de\", IMC)\n",
    "    if IMC < 18.5: \n",
    "        print(\"su peso es bajo se encuentra por debajo de 18,5, está muy bajo\")\n",
    "    elif IMC <25:\n",
    "        print(\"su peso es normal\")\n",
    "    elif IMC <30:\n",
    "        print(\"tiene sobrepeso\")\n",
    "    else: \n",
    "        print(\"IMC mayor a 30, tiene obesidad\")\n",
    "    return\n",
    "peso = input(\"Por favor introduzca su peso, en kilos\") \n",
    "peso = peso.replace(\",\",\".\")\n",
    "peso = float(peso)\n",
    "altura = input(\"Por favor introduzca su altura, en metros\") \n",
    "altura = altura.replace(\",\",\".\")\n",
    "altura = float(altura)\n",
    "rangoIMC(peso,altura)"
   ]
  },
  {
   "cell_type": "markdown",
   "metadata": {},
   "source": [
    "EJERCICIO 2\n",
    "Convertidor de temperaturas.\n",
    "Existen varias unidades de temperatura utilizadas en diferentes contextos y regiones. Las más comunes son Celsius (°C), Fahrenheit (°F) y Kelvin (K). También existen otras unidades como Rankine (°Ra) y Réaumur (°Re). Selecciona al menos 2 conversores, de tal manera que al introducir una temperatura retorne, como mínimo, dos conversiones.\n",
    "\n",
    "Correcciones - Cambios Propuestos:\n",
    "Tú código  podría ser más amigable para el usuario. Por ejemplo, podrías modificar el código para que interactúe más con quien lo usa, solicitando que especifique explícitamente la unidad de origen y la unidad de destino deseada. "
   ]
  },
  {
   "cell_type": "code",
   "execution_count": null,
   "metadata": {},
   "outputs": [],
   "source": [
    "## preguntar si es muy largo, pasa que puse que pase por 3 elecciones..!\n",
    "def convertir_temperaturas(eleccion):\n",
    "    if eleccion == 1:\n",
    "        celsius = float(input(\"Por favor, introduzca temperatura en Celsius para poder calcular las otras medidas: \"))\n",
    "        fahrenheit = round((celsius * 9/5) + 32, 2)\n",
    "        kelvin = round(celsius + 273.15,2)\n",
    "        print(f'{celsius} grados Celsius es igual a {fahrenheit} Fahrenheit')\n",
    "        print(f'{celsius} grados Celsius es igual a {kelvin} Kelvin')\n",
    "    elif eleccion == 2:\n",
    "        fahrenheit = float(input(\"Por favor, introduzca temperatura en Fahrenheit para poder calcular las otras medidas: \"))\n",
    "        celsius = round((fahrenheit - 32) * 5/9, 2)\n",
    "        kelvin = round(celsius + 273.15,2)\n",
    "        print(f'{fahrenheit} grados Fahrenheit es igual a {celsius} Celsius')\n",
    "        print(f'{fahrenheit} grados Fahrenheit es igual a {kelvin} Kelvin')\n",
    "    elif eleccion == 3:\n",
    "        kelvin = float(input(\"Por favor, introduzca temperatura en Kelvin para poder calcular las otras medidas: \"))\n",
    "        celsius = round(kelvin-273.15,2)\n",
    "        fahrenheit = round((celsius * 9/5) + 32, 2)\n",
    "        print(f'{kelvin} grados Kelvin es igual a {celsius} Celsius')\n",
    "        print(f'{kelvin} grados Kelvin es igual a {fahrenheit} Fahrenheit')\n",
    "\n",
    "while True:\n",
    "    try:\n",
    "        eleccion = int(input(\"por favor eliga algua de las siguientes alternativas, \\n 1.-Celcius\\n 2.-Fahrenheit\\n 3.-Fahrenheit\"))\n",
    "        if eleccion in [1,2,3]:\n",
    "            convertir_temperaturas(eleccion)\n",
    "            break\n",
    "        else:\n",
    "            print(f'por favor vuelva a intentarlo, seleccione solo alternativa 1, 2 o 3')\n",
    "    except ValueError:\n",
    "        print (f'Ha introducido un valor erróneo, seleccione solo alternativa 1, 2 o 3')"
   ]
  },
  {
   "cell_type": "markdown",
   "metadata": {},
   "source": [
    "EJERCICIO 3\n",
    "Contador de palabras de un texto.\n",
    "Escribe una función que dado un texto, muestre las veces que aparece cada palabra.\n",
    "\n",
    "Correcciones - Cambios Propuestos:\n",
    "En este caso, revisas correctamente la expresión regular. En este caso únicamente eliminas puntos, comas y signos de exclamación. para tener una mayor flexibilidad podrías ampliar el rango de símbolos para eliminar caracteres que no son palabras o espacios\n",
    "Otra recomendación importante es que podrías unificar el proceso en una sola función para simplificar el flujo y hacer que el código sea más compacto y fácil de seguir.   "
   ]
  },
  {
   "cell_type": "code",
   "execution_count": null,
   "metadata": {},
   "outputs": [],
   "source": [
    "def ajustartexto(texto): \n",
    "    import re \n",
    "    texto=texto.lower()\n",
    "    texto = re.sub(r'[,*.\"!:¡?¿:]', \" \",texto) \n",
    "    texto_ajustado = texto.split() \n",
    "    informeconteo={} \n",
    "    for palabra in texto_ajustado: \n",
    "        if palabra in informeconteo: \n",
    "            informeconteo[palabra] +=1 \n",
    "        else:\n",
    "            informeconteo[palabra] = 1 \n",
    "    for palabra, cant in informeconteo.items(): \n",
    "        print(palabra,cant)\n",
    "texto = 'Descubre el agua Ribes, el agua más pura y refrescante, perfecta para cuidar tu salud con su versión bajo sodio y accesible con su bajo precio. Agua Ribes es el agua que todos prefieren. ¡Elige agua Ribes, elige salud!'\n",
    "ajustartexto(texto)"
   ]
  },
  {
   "cell_type": "markdown",
   "metadata": {},
   "source": [
    "EJERCICIO 4\n",
    "Diccionario inverso.\n",
    "\n",
    "Resulta que el cliente tiene una encuesta muy antigua que se almacena en un diccionario y los resultados los necesita al revés, es decir, intercambiados las claves y los valores. Los valores y claves en el diccionario original son únicos; si este no es el caso, la función debería imprimir un mensaje de advertencia."
   ]
  },
  {
   "cell_type": "code",
   "execution_count": null,
   "metadata": {},
   "outputs": [],
   "source": [
    "company_nro={\"Ferrari\":1,\"Tesla, Inc.\":2,\"General Motors Company\":3,\"Toyota Motor Corporation\":4} \n",
    "def crearnvodict(company_nro): \n",
    "    nro_company={} \n",
    "    for nombre, nro in company_nro.items(): \n",
    "        if nro in nro_company.keys(): \n",
    "            return (f'Error: multiple keys for one value, la clave {nro} ya está siendo utilizada')\n",
    "        nro_company[nro]=nombre \n",
    "    return nro_company\n",
    "crearnvodict(company_nro)"
   ]
  }
 ],
 "metadata": {
  "kernelspec": {
   "display_name": "Python 3",
   "language": "python",
   "name": "python3"
  },
  "language_info": {
   "codemirror_mode": {
    "name": "ipython",
    "version": 3
   },
   "file_extension": ".py",
   "mimetype": "text/x-python",
   "name": "python",
   "nbconvert_exporter": "python",
   "pygments_lexer": "ipython3",
   "version": "3.12.5"
  }
 },
 "nbformat": 4,
 "nbformat_minor": 2
}
